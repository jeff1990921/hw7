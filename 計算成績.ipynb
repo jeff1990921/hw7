{
  "nbformat": 4,
  "nbformat_minor": 0,
  "metadata": {
    "colab": {
      "name": "計算成績.ipynb",
      "provenance": [],
      "collapsed_sections": []
    },
    "kernelspec": {
      "name": "python3",
      "display_name": "Python 3"
    }
  },
  "cells": [
    {
      "cell_type": "markdown",
      "metadata": {
        "id": "rlLMERtbtuV8",
        "colab_type": "text"
      },
      "source": [
        "輸入數字分數，返回等地及GPA"
      ]
    },
    {
      "cell_type": "code",
      "metadata": {
        "id": "MkmP8QrEtpH2",
        "colab_type": "code",
        "colab": {}
      },
      "source": [
        "def Score(score):\n",
        "  if score >= 90:\n",
        "    letter, gpa = 'A+', 4.3\n",
        "  elif score >= 85:\n",
        "    letter, gpa = 'A', 4.0\n",
        "  elif score >= 80:\n",
        "    letter, gpa = 'A-', 3.7\n",
        "  elif score >= 77:\n",
        "    letter, gpa = 'B+', 3.4\n",
        "  elif score >= 73:\n",
        "    letter, gpa = 'B', 3.0\n",
        "  elif score >= 70:\n",
        "    letter, gpa = 'B-', 2.7\n",
        "  elif score >= 67:\n",
        "    letter, gpa = 'C+', 2.4\n",
        "  elif score >= 63:\n",
        "    letter, gpa = 'C', 2.0\n",
        "  elif score >= 60:\n",
        "    letter, gpa = 'C-', 1.7\n",
        "  else:\n",
        "    letter, gpa = 'F', 0.0\n",
        "  print(f'letter grade:{letter}, gpa:{gpa}')"
      ],
      "execution_count": 0,
      "outputs": []
    },
    {
      "cell_type": "code",
      "metadata": {
        "id": "6WiyHO-1vCWo",
        "colab_type": "code",
        "outputId": "12f1048e-de66-45a7-ffc4-722aa97e0412",
        "colab": {
          "base_uri": "https://localhost:8080/",
          "height": 34
        }
      },
      "source": [
        "Score(68)"
      ],
      "execution_count": 0,
      "outputs": [
        {
          "output_type": "stream",
          "text": [
            "letter grade:C+, gpa:2.4\n"
          ],
          "name": "stdout"
        }
      ]
    }
  ]
}